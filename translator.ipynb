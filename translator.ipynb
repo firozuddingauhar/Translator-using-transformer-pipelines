{
 "cells": [
  {
   "cell_type": "code",
   "execution_count": 1,
   "metadata": {},
   "outputs": [],
   "source": [
    "import gradio as gr               \n",
    "from transformers import pipeline  \n",
    "\n",
    "translation_pipeline = pipeline(\"translation_en_to_hi\", model=\"Helsinki-NLP/opus-mt-en-hi\")\n",
    "\n",
    "def translate_transformers(from_text):\n",
    "    results = translation_pipeline(from_text)\n",
    "    return results[0]['translation_text']\n",
    "\n",
    "interface = gr.Interface(fn=translate_transformers, \n",
    "                         inputs=gr.Textbox(lines=2, placeholder='Text to translate'),\n",
    "                         outputs='text')\n",
    "\n",
    "interface.launch()"
   ]
  },
  {
   "cell_type": "code",
   "execution_count": 1,
   "metadata": {},
   "outputs": [],
   "source": [
    "# pip install googletrans==3.1.0a0\n",
    "from googletrans import Translator\n",
    "translator = Translator()\n",
    "text = input(\"Text: \")\n",
    "translation = translator.translate(text, dest='hi')\n",
    "print(translation.text)"
   ]
  }
 ],
 "metadata": {
  "kernelspec": {
   "display_name": "Python 3",
   "language": "python",
   "name": "python3"
  },
  "language_info": {
   "codemirror_mode": {
    "name": "ipython",
    "version": 3
   },
   "file_extension": ".py",
   "mimetype": "text/x-python",
   "name": "python",
   "nbconvert_exporter": "python",
   "pygments_lexer": "ipython3",
   "version": "3.11.3"
  }
 },
 "nbformat": 4,
 "nbformat_minor": 2
}
